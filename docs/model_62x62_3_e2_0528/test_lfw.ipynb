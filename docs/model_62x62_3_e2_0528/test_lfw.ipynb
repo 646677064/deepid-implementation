{
 "cells": [
  {
   "cell_type": "markdown",
   "metadata": {},
   "source": [
    "# Test model_62x62_3_e2_0528 #"
   ]
  },
  {
   "cell_type": "markdown",
   "metadata": {},
   "source": [
    "## Oerview ##\n",
    "\n",
    "|Model|Training Iteration|Test accuracy(Cosine Similarity)|Test accuracy (Euclidean Distance)|Test accuracy (Joint Bayesian)|\n",
    "| ----|----|----|----|----|\n",
    "|62x62_3_e2_0528|750,000|0.749333|0.701|0.60|\n",
    "\n",
    "- [Test accuracy](#Test-accuracy)"
   ]
  },
  {
   "cell_type": "markdown",
   "metadata": {},
   "source": [
    "## Dataset ##\n",
    "\n",
    "|Dataset|People|Image|Size|\n",
    "| ----|----|----- |----- |\n",
    "|LFW-custom|5749|13233|62x62|\n",
    "\n",
    "- testing set: 6000 people pairs on LFW-custom\n",
    "  - images: official images aligned with deep funneling\n",
    "  - slice: (width_scope, height_scope) = ((63, 187), (63,187))\n",
    "  - resize: 0.5  "
   ]
  },
  {
   "cell_type": "markdown",
   "metadata": {},
   "source": [
    "## Get LFW image pairs ## "
   ]
  },
  {
   "cell_type": "code",
   "execution_count": 1,
   "metadata": {
    "collapsed": true
   },
   "outputs": [],
   "source": [
    "import sklearn\n",
    "from sklearn.datasets import fetch_lfw_pairs\n",
    "import numpy as np"
   ]
  },
  {
   "cell_type": "code",
   "execution_count": 2,
   "metadata": {
    "collapsed": true
   },
   "outputs": [],
   "source": [
    "lfwList = fetch_lfw_pairs(subset='10_folds', data_home='/workspace/datasets', funneled=True, resize=0.5, color=True, slice_=(slice(63, 187), slice(63, 187)), download_if_missing=True)"
   ]
  },
  {
   "cell_type": "code",
   "execution_count": 3,
   "metadata": {
    "collapsed": true
   },
   "outputs": [],
   "source": [
    "# pairs : numpy array of shape (6000, 2, 62, 62, 3)\n",
    "# target : numpy array of shape (6000,)\n",
    "leftParts = lfwList.pairs[:, 0, :, :, :]\n",
    "rightParts = lfwList.pairs[:, 1, :, :, :]\n",
    "\n",
    "assert(len(leftParts) == len(rightParts))\n",
    "\n",
    "test_num = len(leftParts)"
   ]
  },
  {
   "cell_type": "code",
   "execution_count": 4,
   "metadata": {
    "collapsed": false
   },
   "outputs": [],
   "source": [
    "labels = lfwList.target\n",
    "\n",
    "assert(len(labels) == test_num)\n",
    "\n",
    "# transform label value\n",
    "# origin:      0 => different, 1 => same\n",
    "# transformed: 0 => same     , 1 => different\n",
    "\n",
    "for i in range(labels.shape[0]):\n",
    "    labels[i] = 1 - labels[i]"
   ]
  },
  {
   "cell_type": "markdown",
   "metadata": {},
   "source": [
    "## Net settings ##"
   ]
  },
  {
   "cell_type": "code",
   "execution_count": 5,
   "metadata": {
    "collapsed": false
   },
   "outputs": [
    {
     "name": "stderr",
     "output_type": "stream",
     "text": [
      "/opt/caffe/python/caffe/pycaffe.py:13: RuntimeWarning: to-Python converter for boost::shared_ptr<caffe::Net<float> > already registered; second conversion method ignored.\n",
      "  from ._caffe import Net, SGDSolver, NesterovSolver, AdaGradSolver, \\\n",
      "/opt/caffe/python/caffe/pycaffe.py:13: RuntimeWarning: to-Python converter for boost::shared_ptr<caffe::Blob<float> > already registered; second conversion method ignored.\n",
      "  from ._caffe import Net, SGDSolver, NesterovSolver, AdaGradSolver, \\\n",
      "/opt/caffe/python/caffe/pycaffe.py:13: RuntimeWarning: to-Python converter for boost::shared_ptr<caffe::Solver<float> > already registered; second conversion method ignored.\n",
      "  from ._caffe import Net, SGDSolver, NesterovSolver, AdaGradSolver, \\\n"
     ]
    }
   ],
   "source": [
    "import caffe"
   ]
  },
  {
   "cell_type": "code",
   "execution_count": 6,
   "metadata": {
    "collapsed": false
   },
   "outputs": [],
   "source": [
    "MODEL_FILE = '/workspace/tools/deepid/model/62x62_3_e2_0528/snapshot/snapshot_iter_750000.caffemodel'\n",
    "DEPLOY_FILE = '/workspace/tools/deepid/model/62x62_3_e2_0528/deploy.prototxt'\n",
    "\n",
    "caffe.set_mode_gpu()\n",
    "net = caffe.Net(DEPLOY_FILE, MODEL_FILE, caffe.TEST)"
   ]
  },
  {
   "cell_type": "code",
   "execution_count": 7,
   "metadata": {
    "collapsed": false
   },
   "outputs": [],
   "source": [
    "# load the mean image (as distributed with Caffe) for subtraction\n",
    "mu = np.load('/workspace/datasets/CASIA-WebFace-custom/mean_528_62x62.npy')\n",
    "mu = mu.mean(1).mean(1)  # average over pixels to obtain the mean (BGR) pixel values"
   ]
  },
  {
   "cell_type": "code",
   "execution_count": 8,
   "metadata": {
    "collapsed": false
   },
   "outputs": [],
   "source": [
    "# create transformer for the input called 'data_1'\n",
    "transformer = caffe.io.Transformer({'data': net.blobs['data_1'].data.shape})\n",
    "\n",
    "# (h,w,c) => (c,h,w)\n",
    "transformer.set_transpose('data', (2,0,1))  # move image channels to outermost dimension\n",
    "transformer.set_channel_swap('data', (2,1,0))  # swap channels from RGB to BGR\n",
    "transformer.set_mean('data', mu)            # subtract the dataset-mean value in each channel\n",
    "transformer.set_input_scale('data', 0.0078125)"
   ]
  },
  {
   "cell_type": "code",
   "execution_count": 9,
   "metadata": {
    "collapsed": false
   },
   "outputs": [
    {
     "name": "stdout",
     "output_type": "stream",
     "text": [
      "network input: ['data_1']\n",
      "network output: ['deepid_1']\n"
     ]
    }
   ],
   "source": [
    "print 'network input:', net.inputs\n",
    "print 'network output:', net.outputs"
   ]
  },
  {
   "cell_type": "markdown",
   "metadata": {},
   "source": [
    "## Transform input data ##"
   ]
  },
  {
   "cell_type": "code",
   "execution_count": 10,
   "metadata": {
    "collapsed": false
   },
   "outputs": [],
   "source": [
    "X = np.empty((test_num, 3, 62, 62))\n",
    "\n",
    "i = 0\n",
    "for entry in leftParts:\n",
    "    X[i, :, :, :] = transformer.preprocess('data', entry)\n",
    "    i = i + 1\n",
    "\n",
    "out = net.forward_all(data_1 = X)\n",
    "feature_left = np.float64(out['deepid_1'])\n",
    "feature_left = np.reshape(feature_left, (test_num, 160))"
   ]
  },
  {
   "cell_type": "code",
   "execution_count": 11,
   "metadata": {
    "collapsed": false
   },
   "outputs": [],
   "source": [
    "X = np.empty((test_num, 3, 62, 62))\n",
    "\n",
    "i = 0\n",
    "for entry in rightParts:\n",
    "    X[i, :, :, :] = transformer.preprocess('data', entry)\n",
    "    i = i + 1\n",
    "\n",
    "out = net.forward_all(data_1 = X)\n",
    "feature_right = np.float64(out['deepid_1'])\n",
    "feature_right = np.reshape(feature_right, (test_num, 160))"
   ]
  },
  {
   "cell_type": "markdown",
   "metadata": {},
   "source": [
    "## Test accuracy ##"
   ]
  },
  {
   "cell_type": "markdown",
   "metadata": {},
   "source": [
    "**Dependency**"
   ]
  },
  {
   "cell_type": "code",
   "execution_count": 12,
   "metadata": {
    "collapsed": true
   },
   "outputs": [],
   "source": [
    "import cPickle as pickle\n",
    "import sklearn\n",
    "import sklearn.metrics.pairwise as pw\n",
    "import matplotlib.pyplot as plt\n",
    "import numpy as np\n",
    "%matplotlib inline"
   ]
  },
  {
   "cell_type": "code",
   "execution_count": 13,
   "metadata": {
    "collapsed": true
   },
   "outputs": [],
   "source": [
    "def calculate_accuracy(distance,labels,num):\n",
    "    '''\n",
    "    #计算识别率,\n",
    "    选取阈值，计算识别率\n",
    "    '''\n",
    "    accuracy = []\n",
    "    # predict = np.empty((num,))\n",
    "    predict = np.empty(num)\n",
    "    threshold = 0.2\n",
    "    while threshold <= 0.8 :\n",
    "        for i in range(num):\n",
    "            if distance[i] >= threshold:\n",
    "                 predict[i] = 1 # different\n",
    "            else:\n",
    "                 predict[i] = 0 # same\n",
    "        predict_right = 0.0\n",
    "        for i in range(num):\n",
    "            if predict[i] == labels[i]:\n",
    "              predict_right = 1.0 + predict_right\n",
    "        current_accuracy = (predict_right/num)\n",
    "        accuracy.append(current_accuracy)\n",
    "        threshold = threshold + 0.001\n",
    "    return np.max(accuracy)"
   ]
  },
  {
   "cell_type": "code",
   "execution_count": 14,
   "metadata": {
    "collapsed": true
   },
   "outputs": [],
   "source": [
    "def draw_roc_curve(fpr, tpr, title):\n",
    "    plt.figure()\n",
    "    plt.plot(fpr, tpr)\n",
    "    plt.plot([0, 1], [0, 1], 'k--')\n",
    "    plt.xlim([0.0, 1.0])\n",
    "    plt.ylim([0.0, 1.0])\n",
    "    plt.xlabel('False Positive Rate')\n",
    "    plt.ylabel('True Positive Rate')\n",
    "    plt.title('ROC with ' + title + 'method on LFW')\n",
    "    plt.legend(loc=\"lower right\")\n",
    "    plt.show()"
   ]
  },
  {
   "cell_type": "markdown",
   "metadata": {},
   "source": [
    "### Test accuracy with Cosine Similarity method on LFW ###\n",
    "\n",
    "[\\[back to top\\]](#Oerview)"
   ]
  },
  {
   "cell_type": "code",
   "execution_count": 15,
   "metadata": {
    "collapsed": false
   },
   "outputs": [],
   "source": [
    "# calculate features' distance with cosine similarity\n",
    "mt = pw.pairwise_distances(feature_left, feature_right, metric='cosine')"
   ]
  },
  {
   "cell_type": "code",
   "execution_count": 16,
   "metadata": {
    "collapsed": false
   },
   "outputs": [
    {
     "name": "stdout",
     "output_type": "stream",
     "text": [
      "accuracy is : 0.749333333333\n"
     ]
    }
   ],
   "source": [
    "predicts = np.empty(test_num)\n",
    "\n",
    "for i in range(test_num):\n",
    "    predicts[i] = mt[i][i]\n",
    "    # 距离需要归一化到0--1,与标签0-1匹配\n",
    "for i in range(test_num):\n",
    "    predicts[i] = (predicts[i]-np.min(predicts))/(np.max(predicts)-np.min(predicts))\n",
    "\n",
    "print 'accuracy is :', calculate_accuracy(predicts, labels, test_num)"
   ]
  },
  {
   "cell_type": "code",
   "execution_count": 17,
   "metadata": {
    "collapsed": false
   },
   "outputs": [
    {
     "name": "stderr",
     "output_type": "stream",
     "text": [
      "/usr/local/lib/python2.7/dist-packages/matplotlib/axes/_axes.py:519: UserWarning: No labelled objects found. Use label='...' kwarg on individual plots.\n",
      "  warnings.warn(\"No labelled objects found. \"\n"
     ]
    },
    {
     "data": {
      "image/png": "[encoded data removed]",
      "text/plain": [
       "<matplotlib.figure.Figure at 0x7ffb59c1dd90>"
      ]
     },
     "metadata": {},
     "output_type": "display_data"
    }
   ],
   "source": [
    "fpr, tpr, thresholds = sklearn.metrics.roc_curve(labels, predicts)\n",
    "\n",
    "draw_roc_curve(fpr, tpr, title='cosine similarity')"
   ]
  },
  {
   "cell_type": "code",
   "execution_count": 18,
   "metadata": {
    "collapsed": true
   },
   "outputs": [],
   "source": [
    "# store result\n",
    "fout = open('cosine-similarity-20160416-1.result.pkl', 'w')\n",
    "data = {\"distance\": predicts, \"label\": labels}\n",
    "pickle.dump(data, fout)\n",
    "fout.close()"
   ]
  },
  {
   "cell_type": "markdown",
   "metadata": {
    "collapsed": true
   },
   "source": [
    "### Test accuracy with Euclidean Distance method on LFW ###"
   ]
  },
  {
   "cell_type": "code",
   "execution_count": 19,
   "metadata": {
    "collapsed": true
   },
   "outputs": [],
   "source": [
    "# calculate features' distance with cosine similarity\n",
    "mt = pw.pairwise_distances(feature_left, feature_right, metric='euclidean')"
   ]
  },
  {
   "cell_type": "code",
   "execution_count": 20,
   "metadata": {
    "collapsed": false
   },
   "outputs": [
    {
     "name": "stdout",
     "output_type": "stream",
     "text": [
      "accuracy is : 0.701\n"
     ]
    }
   ],
   "source": [
    "predicts = np.empty(test_num)\n",
    "\n",
    "for i in range(test_num):\n",
    "    predicts[i] = mt[i][i]\n",
    "    # 距离需要归一化到0--1,与标签0-1匹配\n",
    "for i in range(test_num):\n",
    "    predicts[i] = (predicts[i]-np.min(predicts))/(np.max(predicts)-np.min(predicts))\n",
    "\n",
    "print 'accuracy is :', calculate_accuracy(predicts, labels, test_num)"
   ]
  },
  {
   "cell_type": "code",
   "execution_count": 21,
   "metadata": {
    "collapsed": false
   },
   "outputs": [
    {
     "data": {
      "image/png": "[encoded data removed]",
      "text/plain": [
       "<matplotlib.figure.Figure at 0x7ffb59c5af90>"
      ]
     },
     "metadata": {},
     "output_type": "display_data"
    }
   ],
   "source": [
    "fpr, tpr, thresholds = sklearn.metrics.roc_curve(labels, predicts)\n",
    "\n",
    "draw_roc_curve(fpr, tpr, title='euclidean-distance')"
   ]
  },
  {
   "cell_type": "code",
   "execution_count": 22,
   "metadata": {
    "collapsed": false
   },
   "outputs": [],
   "source": [
    "# store result\n",
    "fout = open('euclidean-distance-20160416-1.result.pkl', 'w')\n",
    "data = {\"distance\": predicts, \"label\": labels}\n",
    "pickle.dump(data, fout)\n",
    "fout.close()"
   ]
  },
  {
   "cell_type": "markdown",
   "metadata": {},
   "source": [
    "### Test accuracy with Joint Bayesian method on LFW ###"
   ]
  },
  {
   "cell_type": "markdown",
   "metadata": {},
   "source": [
    "- [joint-bayesian-20160416-2.log.train](./joint-bayesian-20160416-2.log.train)\n",
    "- [joint-bayesian-20160416-2.log.test](./joint-bayesian-20160416-2.log.test)\n",
    "- [joint-bayesian-20160416-2.result.pkl](./joint-bayesian-20160416-2.result.pkl)"
   ]
  },
  {
   "cell_type": "markdown",
   "metadata": {},
   "source": [
    "**Prepare training set of Joint Bayesian**"
   ]
  },
  {
   "cell_type": "code",
   "execution_count": 23,
   "metadata": {
    "collapsed": true
   },
   "outputs": [],
   "source": [
    "# extract features through the trained DeepID model\n",
    "# and store label_CASIA_Webface.mat, feature_CASIA_Webface.mat\n",
    "\n",
    "# !python /workspace/tools/face-preprocess-tools/feature_extractor_mat.py"
   ]
  },
  {
   "cell_type": "markdown",
   "metadata": {},
   "source": [
    "**Train and test Joint Bayesian model**\n",
    "\n",
    "- tool: [cyh24/Joint-Bayesian](https://github.com/cyh24/Joint-Bayesian)"
   ]
  },
  {
   "cell_type": "code",
   "execution_count": 24,
   "metadata": {
    "collapsed": true
   },
   "outputs": [],
   "source": [
    "# train and test Joint Bayesian model\n",
    "# and store joint-bayesian-2016xxxx-x.log, joint-bayesian-2016xxxx-x.result.pkl\n",
    "\n",
    "# !python /workspace/tools/Joint-Bayesian/src/test_lfw.py"
   ]
  },
  {
   "cell_type": "code",
   "execution_count": 25,
   "metadata": {
    "collapsed": false
   },
   "outputs": [
    {
     "name": "stdout",
     "output_type": "stream",
     "text": [
      "\r\n",
      "avg / total       0.59      0.59      0.59      6000\r\n",
      "\r\n",
      "threshold:  1.69489139171\r\n",
      "             precision    recall  f1-score   support\r\n",
      "\r\n",
      "      False       0.61      0.54      0.57      3000\r\n",
      "       True       0.59      0.65      0.62      3000\r\n",
      "\r\n",
      "avg / total       0.60      0.60      0.60      6000"
     ]
    }
   ],
   "source": [
    "!tail ./joint-bayesian-20160416-2.log.test"
   ]
  },
  {
   "cell_type": "code",
   "execution_count": 26,
   "metadata": {
    "collapsed": false
   },
   "outputs": [
    {
     "data": {
      "image/png": "[encoded data removed]",
      "text/plain": [
       "<matplotlib.figure.Figure at 0x7ffb59abbc50>"
      ]
     },
     "metadata": {},
     "output_type": "display_data"
    }
   ],
   "source": [
    "f = open('joint-bayesian-20160416-2.result.pkl', 'r')\n",
    "\n",
    "result = pickle.load(f)\n",
    "dist = result['distance']\n",
    "y    = result['label']\n",
    "\n",
    "f.close()\n",
    "\n",
    "fpr, tpr, thresholds = sklearn.metrics.roc_curve(y, dist)\n",
    "\n",
    "draw_roc_curve(fpr, tpr, title='joint-bayesian')"
   ]
  },
  {
   "cell_type": "code",
   "execution_count": null,
   "metadata": {
    "collapsed": true
   },
   "outputs": [],
   "source": []
  }
 ],
 "metadata": {
  "kernelspec": {
   "display_name": "Python 2",
   "language": "python",
   "name": "python2"
  },
  "language_info": {
   "codemirror_mode": {
    "name": "ipython",
    "version": 2
   },
   "file_extension": ".py",
   "mimetype": "text/x-python",
   "name": "python",
   "nbconvert_exporter": "python",
   "pygments_lexer": "ipython2",
   "version": "2.7.6"
  }
 },
 "nbformat": 4,
 "nbformat_minor": 0
}
