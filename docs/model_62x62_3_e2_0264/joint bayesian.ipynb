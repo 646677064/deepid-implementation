{
 "cells": [
  {
   "cell_type": "markdown",
   "metadata": {},
   "source": [
    "```\n",
    "threshold:  -0.210317474985\n",
    "             precision    recall  f1-score   support\n",
    "\n",
    "      False       0.61      0.53      0.57      3000\n",
    "       True       0.59      0.66      0.62      3000\n",
    "\n",
    "avg / total       0.60      0.60      0.60      6000\n",
    "```"
   ]
  }
 ],
 "metadata": {
  "kernelspec": {
   "display_name": "Python 2",
   "language": "python",
   "name": "python2"
  },
  "language_info": {
   "codemirror_mode": {
    "name": "ipython",
    "version": 2
   },
   "file_extension": ".py",
   "mimetype": "text/x-python",
   "name": "python",
   "nbconvert_exporter": "python",
   "pygments_lexer": "ipython2",
   "version": "2.7.11"
  }
 },
 "nbformat": 4,
 "nbformat_minor": 0
}
