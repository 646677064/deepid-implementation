{
 "cells": [
  {
   "cell_type": "markdown",
   "metadata": {},
   "source": [
    "# [Experiment] Method comparison #"
   ]
  },
  {
   "cell_type": "markdown",
   "metadata": {},
   "source": [
    "## Oerview ##\n",
    "\n",
    "|Model|People|Training images|Validation images|Total iteration|Best Top-1 accuracy on validation set|\n",
    "| ----|----|----- |----- |----- |----- |\n",
    "|62x62_3_e2_0264|264|9,554|939|800,000|0.735352 (Iter 600,000)|\n",
    "|62x62_3_e2_0528|528|16,076|1,544|800,000|0.685547 (Iter 750,000)|\n",
    "|62x62_3_e2_1057|1,057|37,977|3,686|800,000|0.704472 (Iter 800,000)|\n",
    "|62x62_3_e2_2115|2,115|72,126|6,978|800,000|0.70625 (Iter 750,000)|\n",
    "|62x62_3_e2_4230|4,230|143,939|13,977|800,000|0.692015 (Iter 650,000)|\n",
    "|62x62_3_e2_8460|8,460|284,466|27,498|800,000|0.666424 (Iter 750,000)|\n",
    "|62x62_3_e1_conventional|8,460|284,466|27,498|800,000|0.646512 (Iter 750,000)|\n",
    "\n",
    "\n",
    "## Test accuracy on LFW ##\n",
    "\n",
    "|Model|Joint Bayesian|Cosine Similarity|Euclidean Distance|\n",
    "| ----|----|----- |----- |\n",
    "|62x62_3_e2_0264|0.61|0.735|0.6745|\n",
    "|62x62_3_e2_0528|0.60|0.749333|0.701|\n",
    "|62x62_3_e2_1057|0.61|0.758333|0.709167|\n",
    "|62x62_3_e2_2115|0.65|0.778167|0.7365|\n",
    "|62x62_3_e2_4230|0.66|0.793167|0.756833|\n",
    "|62x62_3_e2_8460|0.66|0.7985|0.757|\n",
    "|62x62_3_e1_conventional|0.64|0.797667|0.763167|"
   ]
  },
  {
   "cell_type": "markdown",
   "metadata": {},
   "source": [
    "## Result ##\n",
    "\n",
    "![roc_comparison_with_joint_bayesian_method_on_lfw.png](./roc_comparison_with_joint_bayesian_method_on_lfw.png)\n",
    "\n",
    "![roc_comparison_with_cosine_similarity_method_on_lfw.png](./roc_comparison_with_cosine_similarity_method_on_lfw.png)\n",
    "\n",
    "![roc_comparison_with_euclidean_distance_method_on_lfw.png](./roc_comparison_with_euclidean_distance_method_on_lfw.png)"
   ]
  },
  {
   "cell_type": "markdown",
   "metadata": {},
   "source": [
    "## What's the Different ##\n",
    "\n",
    "||Paper|This Experiment|\n",
    "| ----|----|----|\n",
    "|Dataset|CelebFace, CelebFace+|CASIA-WebFace|\n",
    "|Facial point detection|[30]|custom tool|\n",
    "|Input size|31x31 or 39x31|62x62|\n",
    "|Patches|60, 100|1|\n",
    "|(Weights) Locally shared|C3, C4|no|\n",
    "|Transfer learning algorithm|yes|no\n",
    "\n",
    "- [30] Y.Sun, X.Wang, andX.Tang. [Deep convolutional network cascade for facial point detection.](http://www.ee.cuhk.edu.hk/~xgwang/papers/sunWTcvpr13.pdf) In Proc. CVPR, 2013\n",
    "- [D.5.1.5 Method comparison](../../DeepID.ipynb#D.5.1.5-Method-comparison)"
   ]
  },
  {
   "cell_type": "markdown",
   "metadata": {},
   "source": [
    "## Process ##\n",
    "\n",
    "1. [ROC comparison](#ROC-comparison)\n",
    "2. [ROC comparison with Joint-Bayesian method on LFW](#ROC-comparison-with-Joint-Bayesian-method-on-LFW)\n",
    "3. [ROC comparison with Cosine Similarity method on LFW](#ROC-comparison-with-Cosine-Similarity-method-on-LFW)\n",
    "4. [ROC comparison with Euclidean Distance method on LFW](#ROC-comparison-with-Euclidean-Distance-method-on-LFW)"
   ]
  },
  {
   "cell_type": "markdown",
   "metadata": {},
   "source": [
    "## ROC comparison ##"
   ]
  },
  {
   "cell_type": "markdown",
   "metadata": {},
   "source": [
    "**Dependency**"
   ]
  },
  {
   "cell_type": "code",
   "execution_count": 1,
   "metadata": {
    "collapsed": true
   },
   "outputs": [],
   "source": [
    "import cPickle as pickle\n",
    "import sklearn\n",
    "import sklearn.metrics\n",
    "import matplotlib.pyplot as plt"
   ]
  },
  {
   "cell_type": "markdown",
   "metadata": {},
   "source": [
    "### ROC comparison with Joint-Bayesian method on LFW ###\n",
    "\n",
    "[back to top](#Process)"
   ]
  },
  {
   "cell_type": "code",
   "execution_count": 2,
   "metadata": {
    "collapsed": true
   },
   "outputs": [],
   "source": [
    "plt.figure()\n",
    "file_dirs = ['62x62_3_e2_0264', '62x62_3_e2_0528', '62x62_3_e2_1057', '62x62_3_e2_2115', '62x62_3_e2_4230', '62x62_3_e2_8460', '62x62_3_e1_conventional']\n",
    "\n",
    "for file_dir in file_dirs:\n",
    "    f = open(file_dir + '/joint-bayesian.result.pkl', 'r')\n",
    "    result = pickle.load(f)\n",
    "    f.close()\n",
    "    dist = result['distance']\n",
    "    y = result['label']\n",
    "\n",
    "    fpr, tpr, thresholds = sklearn.metrics.roc_curve(y, dist)\n",
    "    label = 'model_' + file_dir\n",
    "\n",
    "    plt.plot(fpr, tpr, label = label)"
   ]
  },
  {
   "cell_type": "code",
   "execution_count": 3,
   "metadata": {
    "collapsed": true
   },
   "outputs": [],
   "source": [
    "plt.plot([0, 1], [0, 1], 'k--')\n",
    "plt.xlim([0.0, 1.0])\n",
    "plt.ylim([0.0, 1.0])\n",
    "\n",
    "plt.xlabel('False Positive Rate')\n",
    "plt.ylabel('True Positive Rate')\n",
    "\n",
    "plt.title('ROC comparison with Joint-Bayesian method on LFW')\n",
    "plt.legend(loc=\"lower right\")\n",
    "plt.savefig('roc_comparison_with_joint_bayesian_method_on_lfw.png')"
   ]
  },
  {
   "cell_type": "markdown",
   "metadata": {},
   "source": [
    "### ROC comparison with Cosine Similarity method on LFW ###\n",
    "\n",
    "[back to top](#Process)"
   ]
  },
  {
   "cell_type": "code",
   "execution_count": 4,
   "metadata": {
    "collapsed": true
   },
   "outputs": [],
   "source": [
    "plt.figure()\n",
    "file_dirs = ['62x62_3_e2_0264', '62x62_3_e2_0528', '62x62_3_e2_1057', '62x62_3_e2_2115', '62x62_3_e2_4230', '62x62_3_e2_8460', '62x62_3_e1_conventional']\n",
    "\n",
    "for file_dir in file_dirs:\n",
    "    f = open(file_dir + '/cosine-similarity.result.pkl', 'r')\n",
    "    result = pickle.load(f)\n",
    "    f.close()\n",
    "    dist = result['distance']\n",
    "    y = result['label']\n",
    "\n",
    "    fpr, tpr, thresholds = sklearn.metrics.roc_curve(y, dist)\n",
    "    label = 'model_' + file_dir\n",
    "\n",
    "    plt.plot(fpr, tpr, label = label)"
   ]
  },
  {
   "cell_type": "code",
   "execution_count": 5,
   "metadata": {
    "collapsed": true
   },
   "outputs": [],
   "source": [
    "plt.plot([0, 1], [0, 1], 'k--')\n",
    "plt.xlim([0.0, 1.0])\n",
    "plt.ylim([0.0, 1.0])\n",
    "\n",
    "plt.xlabel('False Positive Rate')\n",
    "plt.ylabel('True Positive Rate')\n",
    "\n",
    "plt.title('ROC comparison with Cosine Similarity method on LFW')\n",
    "plt.legend(loc=\"lower right\")\n",
    "plt.savefig('roc_comparison_with_cosine_similarity_method_on_lfw.png')"
   ]
  },
  {
   "cell_type": "markdown",
   "metadata": {},
   "source": [
    "### ROC comparison with Euclidean Distance method on LFW ###\n",
    "\n",
    "[back to top](#Process)"
   ]
  },
  {
   "cell_type": "code",
   "execution_count": 6,
   "metadata": {
    "collapsed": false
   },
   "outputs": [],
   "source": [
    "plt.figure()\n",
    "file_dirs = ['62x62_3_e2_0264', '62x62_3_e2_0528', '62x62_3_e2_1057', '62x62_3_e2_2115', '62x62_3_e2_4230', '62x62_3_e2_8460', '62x62_3_e1_conventional']\n",
    "\n",
    "for file_dir in file_dirs:\n",
    "    f = open(file_dir + '/euclidean-distance.result.pkl', 'r')\n",
    "    result = pickle.load(f)\n",
    "    f.close()\n",
    "    dist = result['distance']\n",
    "    y = result['label']\n",
    "\n",
    "    fpr, tpr, thresholds = sklearn.metrics.roc_curve(y, dist)\n",
    "    label = 'model_' + file_dir\n",
    "\n",
    "    plt.plot(fpr, tpr, label = label)"
   ]
  },
  {
   "cell_type": "code",
   "execution_count": 7,
   "metadata": {
    "collapsed": false
   },
   "outputs": [],
   "source": [
    "plt.plot([0, 1], [0, 1], 'k--')\n",
    "plt.xlim([0.0, 1.0])\n",
    "plt.ylim([0.0, 1.0])\n",
    "\n",
    "plt.xlabel('False Positive Rate')\n",
    "plt.ylabel('True Positive Rate')\n",
    "\n",
    "plt.title('ROC comparison with Euclidean Distance method on LFW')\n",
    "plt.legend(loc=\"lower right\")\n",
    "plt.savefig('roc_comparison_with_euclidean_distance_method_on_lfw.png')"
   ]
  },
  {
   "cell_type": "code",
   "execution_count": null,
   "metadata": {
    "collapsed": true
   },
   "outputs": [],
   "source": []
  }
 ],
 "metadata": {
  "kernelspec": {
   "display_name": "Python 2",
   "language": "python",
   "name": "python2"
  },
  "language_info": {
   "codemirror_mode": {
    "name": "ipython",
    "version": 2
   },
   "file_extension": ".py",
   "mimetype": "text/x-python",
   "name": "python",
   "nbconvert_exporter": "python",
   "pygments_lexer": "ipython2",
   "version": "2.7.11"
  }
 },
 "nbformat": 4,
 "nbformat_minor": 0
}
